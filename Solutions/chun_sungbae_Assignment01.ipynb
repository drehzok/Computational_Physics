{
 "cells": [
  {
   "cell_type": "markdown",
   "metadata": {},
   "source": [
    "### Electric Field due to a Ring of Charge\n",
    "A ring has a uniform charge density $\\lambda$, with units of coulomb per unit meter of arc. Find the electric potential at a point on the axis passing through the center of the ring.\n",
    "### Strategy\n",
    "We use the same procedure as for the charged wire. The difference here is that the charge is distributed on a circle. We divide the circle into infinitesimal elements shaped as arcs on the circle and use polar coordinates shown in <font color='grey'>**Figure 5.24**</font>.\n",
    "### Solution\n",
    "The electric field for a line charge is given by the general expression\n",
    "<br>\n",
    "\n",
    "$$\\mathbf{\\vec{E}}(P)=\\frac{1}{4\\pi \\varepsilon_{0}}\\int\\limits_{\\mbox{line}} \\frac{\\lambda d l}{r^2}\\mathbf{\\hat{r}}.$$<br>\n",
    "\n",
    "A general element of the arc between $\\theta \\mbox{ and } \\theta + d\\theta$ is of length $Rd\\theta$ and therefore contains a charge equal to $\\lambda Rd\\theta$. The element is at a distance of $r=\\sqrt{z^2+R^2} \\mbox{ from } P$, the angle is $\\cos{\\phi}=\\frac{z}{\\sqrt{z^2+R^2}}$, and therefore the electric field is<br><br>\n",
    "$$\\begin{equation}\\begin{split}\\mathbf{\\vec{E}}(P)&=\\frac{1}{4\\pi \\varepsilon_{0}}\\int\\limits_{\\mathbf{\\mbox{line}}} \\frac{\\lambda d l}{r^2}\\mathbf{\\hat{r}}=\\frac{1}{4\\pi \\varepsilon_{0}}\\int\\limits_{0}^{2\\pi} \\frac{\\lambda Rd\\theta}{z^2 + R^2} \\frac{z}{\\sqrt{z^2+R^2}}\\mathbf{\\hat{z}}\\\\\n",
    "&=\\frac{1}{4\\pi \\varepsilon_{0}} \\frac{\\lambda Rz}{(z^2+R^2)^{3/2}}\\mathbf{\\hat{z}}\\int\\limits_{0}^{2\\pi}d\\theta = \\frac{1}{4\\pi \\varepsilon_{0}} \\frac{2\\pi \\lambda Rz}{(z^2+R^2)^{3/2}}\\mathbf{\\hat{z}}\\\\\n",
    "&=\\frac{1}{4\\pi \\varepsilon_{0}}\\frac{q_{\\mathbf{\\mbox{tot}}}z}{(z^2+R^2)^{3/2}}\\mathbf{\\hat{z}}.\\end{split}\\end{equation}$$\n",
    "<br>\n",
    "### Significance\n",
    "As usual, symmetry simplified this problem, in this particular case resulting in a trivial integral. Also, when we take the limit of $z>>R$, we find that\n",
    "<br>\n",
    "$$\\mathbf{\\vec{E}}\\approx \\frac{1}{4\\pi \\varepsilon_{0}} \\frac{q_{\\mathbf{\\mbox{tot}}}z}{z^2}\\mathbf{\\hat{z}},$$<br>\n",
    "as we expect."
   ]
  }
 ],
 "metadata": {
  "kernelspec": {
   "display_name": "Python 3",
   "language": "python",
   "name": "python3"
  },
  "language_info": {
   "codemirror_mode": {
    "name": "ipython",
    "version": 3
   },
   "file_extension": ".py",
   "mimetype": "text/x-python",
   "name": "python",
   "nbconvert_exporter": "python",
   "pygments_lexer": "ipython3",
   "version": "3.7.1"
  }
 },
 "nbformat": 4,
 "nbformat_minor": 2
}
