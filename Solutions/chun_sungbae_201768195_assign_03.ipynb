{
 "cells": [
  {
   "cell_type": "markdown",
   "metadata": {},
   "source": [
    "#### 1.0\n",
    "**Exercise 1. Problem Statement:** The *ideal gas law* is given by<br>\n",
    "\n",
    "$$pV=nRT \\tag{1.1}$$<br>\n",
    "where $p$ is the absolute pressure, $V$ is the volume, $n$ is the number of moles, $R$ is the universal gas constant, and $T$ is the absolute temperature. Although this equation is widely used by engineers and scientists, it is accurate over only a limited range of pressure and temperature. Furthermore, Eq.(1.1) is more appropriate for some gases than for others. An alternative equation of state for gases is given by\n",
    "<br>\n",
    "\n",
    "$$\\left( p+\\frac{a}{\\upsilon^2}\\right)(\\upsilon-b)=RT\\tag{1.2}\n",
    "$$<br>\n",
    "known as the _van der Waals equation,_ where\n",
    "$$\\upsilon=\\frac{V}{n}\n",
    "$$\n",
    "is the molal volume and $a$ and $b$ are empirical constants that depend on the particular gas.<br>\n",
    "**(a)** A chemical engineering design project requires that you accurately estimate the molal volume ($\\upsilon$) of both carbon dioxide ($CO_2$) and oxygen ($O_2$) for a number of different temperature and pressure combinations so that appropriate containment vessels can be selected.<br>\n",
    "**(b)** It is also of interest to examine how well each gas conforms to the ideal gas law by comparing the molal volume as calculated by Eqs.(1.1) and (1.2). The following data are provided:\n",
    "\n",
    "$$R=0.082054 \\mbox{ L atm/(mol K)}\n",
    "$$\n",
    "\n",
    "$$\n",
    "\\begin{matrix}\n",
    "\\mbox{carbon dioxide (}CO_2 \\mbox{)}\\left\\{\n",
    "\\begin{matrix}\n",
    "a=3.592\\\\\n",
    "b=0.04267\n",
    "\\end{matrix}\\right.\n",
    "&&\\mbox{oxygen (}O_2\\mbox{)}\\left\\{\n",
    "\\begin{matrix}\n",
    "a=1.360\\\\\n",
    "b=0.03183\n",
    "\\end{matrix}\\right.\n",
    "\\end{matrix}\n",
    "$$\n",
    "\n",
    "To accomplist goals listed in **(a)** and **(b)**, you have to fill out missing values $\\upsilon$ of molal volumes in **Table 1** below. Set absolute tolerance equal to **0.01** in all your calculation. Don't forget to list corresponding root searching intervals or initial root estimates in the last column of **Table 1**."
   ]
  },
  {
   "cell_type": "markdown",
   "metadata": {},
   "source": [
    "#### 1.1\n",
    "**Table 1. Molal volumes computed using Ideal Gas and van der Waals Laws.**<br>\n",
    "\n",
    "$T$,K | $p$, atm | $\\upsilon$(Ideal Gas Law), L/mol| $\\upsilon_{CO_2}$(van der Waals), L/mol  | $\\upsilon_{O_2}$(van der Waals), L/mol  |Root Finding Method (initial data)|\n",
    "------|-----:|--------------:|----------:|-------:|-----------------------------------:|\n",
    "300   |1     |24.6162        |24.515     |     24.589|Bisection ($[23.249,25.984]$)      |\n",
    "      |10    |2.46162        |2.351      |     2.436|Bisection ($[2.3249,2.5984]$)      |\n",
    "      |100   |0.246162       |0.088      |     0.226|Bisection ($[0.079,0.096],[0.205,0.232]$)      |\n",
    "500   |1     |41.027         |40.982     |    41.026|False Position ($[38.75,43.31]$) |\n",
    "      |10    |4.1027         |4.058      |    4.102 |False Position ($[3.875,4.331]$) |\n",
    "      |100   |0.41027        |0.366      |     0.412|False Position ($[0.34,0.39],[0.39,0.43]$) |\n",
    "700   |1     |57.4378        |57.419     |  57.446  |Secant (45.95, 80.41)          |\n",
    "      |10    |5.74378        |5.724      | 5.752    |Secant (4.595, 8.041)          |\n",
    "      |100   |0.574378       |0.557      | 0.584    |Secant (0.4595, 0.8041)          |\n",
    "  \n",
    "where $T$ - temperature, $p$ - pressure, $\\upsilon$ - molal volume."
   ]
  },
  {
   "cell_type": "code",
   "execution_count": 1,
   "metadata": {},
   "outputs": [],
   "source": [
    "#1.2\n",
    "import numpy as np\n",
    "import matplotlib.pyplot as plt\n",
    "\n",
    "#define constants\n",
    "r=0.082054\n",
    "c_a,c_b=3.592,0.04267\n",
    "o_a,o_b=1.360,0.03183\n",
    "\n",
    "def fv(a,b,vm,t,p,r):\n",
    "    return ((p+a/vm**2)*(vm-b)-r*t)\n",
    "\n",
    "#define a function to find the locations of roots\n",
    "#since ideal gas law approximates the behaviour of gases,\n",
    "#we can assume that the roots should be near the ideal prediction\n",
    "#if the root cannot be found, increase the searching interval\n",
    "def root_loc(a,b,t,p,r,f):\n",
    "    vm_t=r*t/p\n",
    "    n=10\n",
    "    intv=[vm_t*.5,vm_t*1.5]\n",
    "    while(True):\n",
    "        subins=np.linspace(intv[0],intv[1],n)\n",
    "        for i in range(0,n-1):\n",
    "            if f(a,b,subins[i],t,p,r)*f(a,b,subins[i+1],t,p,r)<0:\n",
    "                return [subins[i],subins[i+1]]\n",
    "        n*=4\n",
    "        intv[0]*=.5\n",
    "        intv[1]*=2\n",
    "\n",
    "def bisects(x1,x2,tol,f,a,b,t,p,r):\n",
    "    xr=0\n",
    "    while(abs(x1-x2)>tol):\n",
    "        xr=(x1+x2)/2\n",
    "        if f(a,b,xr,t,p,r)==0.0:\n",
    "            print(\"Found exact root at {}\".format(xr))\n",
    "            return\n",
    "        if f(a,b,x1,t,p,r)*f(a,b,xr,t,p,r)<0:\n",
    "            x2=xr\n",
    "        else:\n",
    "            x1=xr\n",
    "        \n",
    "    \n",
    "    print(\"The root is at {:.8f} with the tolerance {}\".format(xr,tol))\n",
    "    "
   ]
  },
  {
   "cell_type": "code",
   "execution_count": 2,
   "metadata": {},
   "outputs": [
    {
     "name": "stdout",
     "output_type": "stream",
     "text": [
      "For carbon dioxide:\n",
      "The temperature is 300 and pressure is 1\n",
      "[23.248633333333334, 25.983766666666668]\n",
      "The root is at 24.51470091 with the tolerance 0.01\n",
      "\n",
      "\n",
      "The temperature is 300 and pressure is 10\n",
      "[2.324863333333333, 2.598376666666667]\n",
      "The root is at 2.35050521 with the tolerance 0.01\n",
      "\n",
      "\n",
      "The temperature is 300 and pressure is 100\n",
      "[0.07889807692307692, 0.09625565384615384]\n",
      "The root is at 0.08757687 with the tolerance 0.01\n",
      "\n",
      "\n",
      "For oxygen:\n",
      "The temperature is 300 and pressure is 1\n",
      "[23.248633333333334, 25.983766666666668]\n",
      "The root is at 24.58948971 with the tolerance 0.01\n",
      "\n",
      "\n",
      "The temperature is 300 and pressure is 10\n",
      "[2.324863333333333, 2.598376666666667]\n",
      "The root is at 2.43597813 with the tolerance 0.01\n",
      "\n",
      "\n",
      "The temperature is 300 and pressure is 100\n",
      "[0.20513499999999998, 0.23248633333333332]\n",
      "The root is at 0.22564850 with the tolerance 0.01\n",
      "\n",
      "\n"
     ]
    }
   ],
   "source": [
    "#1.2\n",
    "p=[1,10,100]\n",
    "print(\"For carbon dioxide:\")\n",
    "for j in p:\n",
    "    print(f\"The temperature is {300} and pressure is {j}\")\n",
    "    ins=root_loc(c_a,c_b,300,j,r,fv)\n",
    "    print(ins)\n",
    "    bisects(ins[0],ins[1],10**-2,fv,c_a,c_b,300,j,r)\n",
    "    print(\"\\n\")\n",
    "print(\"For oxygen:\")\n",
    "for j in p:\n",
    "    print(f\"The temperature is {300} and pressure is {j}\")\n",
    "    ins=root_loc(o_a,o_b,300,j,r,fv)\n",
    "    print(ins)\n",
    "    bisects(ins[0],ins[1],10**-2,fv,o_a,o_b,300,j,r)\n",
    "    print(\"\\n\")"
   ]
  },
  {
   "cell_type": "code",
   "execution_count": 3,
   "metadata": {},
   "outputs": [],
   "source": [
    "#1.3\n",
    "def false(x1,x2,tol,f,a,b,t,p,r):\n",
    "    xr=x2\n",
    "    xrold=x2+tol*4\n",
    "    while(tol<abs(xr-xrold)):\n",
    "        xrold=xr\n",
    "        xr=x2-(f(a,b,x2,t,p,r)*(x2-x1))/(f(a,b,x2,t,p,r)-f(a,b,x1,t,p,r))\n",
    "        if f(a,b,xr,t,p,r)==0.0:\n",
    "            print(\"Found exact solution at {}\".format(xr))\n",
    "        if f(a,b,x1,t,p,r)*f(a,b,xr,t,p,r)<0:\n",
    "            x2=xr\n",
    "        else:\n",
    "            x1=xr\n",
    "    print(\"The root is at {:.3f} within the tolerance {}\".format(xr,tol))"
   ]
  },
  {
   "cell_type": "code",
   "execution_count": 4,
   "metadata": {},
   "outputs": [
    {
     "name": "stdout",
     "output_type": "stream",
     "text": [
      "For carbon dioxide:\n",
      "The temperature is 500 and pressure is 1\n",
      "[38.74772222222222, 43.30627777777778]\n",
      "The root is at 40.982 within the tolerance 0.01\n",
      "\n",
      "\n",
      "The temperature is 500 and pressure is 10\n",
      "[3.874772222222223, 4.330627777777778]\n",
      "The root is at 4.058 within the tolerance 0.01\n",
      "\n",
      "\n",
      "The temperature is 500 and pressure is 100\n",
      "[0.3418916666666667, 0.38747722222222225]\n",
      "The root is at 0.366 within the tolerance 0.01\n",
      "\n",
      "\n",
      "For oxygen:\n",
      "The temperature is 500 and pressure is 1\n",
      "[38.74772222222222, 43.30627777777778]\n",
      "The root is at 41.026 within the tolerance 0.01\n",
      "\n",
      "\n",
      "The temperature is 500 and pressure is 10\n",
      "[3.874772222222223, 4.330627777777778]\n",
      "The root is at 4.102 within the tolerance 0.01\n",
      "\n",
      "\n",
      "The temperature is 500 and pressure is 100\n",
      "[0.38747722222222225, 0.4330627777777778]\n",
      "The root is at 0.412 within the tolerance 0.01\n",
      "\n",
      "\n"
     ]
    }
   ],
   "source": [
    "#1.3\n",
    "p=[1,10,100]\n",
    "print(\"For carbon dioxide:\")\n",
    "for j in p:\n",
    "    print(f\"The temperature is {500} and pressure is {j}\")\n",
    "    ins=root_loc(c_a,c_b,500,j,r,fv)\n",
    "    print(ins)\n",
    "    false(ins[0],ins[1],10**-2,fv,c_a,c_b,500,j,r)\n",
    "    print(\"\\n\")\n",
    "print(\"For oxygen:\")\n",
    "for j in p:\n",
    "    print(f\"The temperature is {500} and pressure is {j}\")\n",
    "    ins=root_loc(o_a,o_b,500,j,r,fv)\n",
    "    print(ins)\n",
    "    false(ins[0],ins[1],10**-2,fv,o_a,o_b,500,j,r)\n",
    "    print(\"\\n\")"
   ]
  },
  {
   "cell_type": "code",
   "execution_count": 5,
   "metadata": {},
   "outputs": [],
   "source": [
    "#1.4\n",
    "def secant(tol,f,a,b,t,p,r):\n",
    "    x=[0.8*r*t/p,1.4*r*t/p]\n",
    "    print(x[0],' ',x[1])\n",
    "    while(tol<abs(x[-1]-x[-2])):\n",
    "        x.append(x[-1]-(f(a,b,x[-1],t,p,r)*(x[-2]-x[-1])/(f(a,b,x[-2],t,p,r)-f(a,b,x[-1],t,p,r))))\n",
    "\n",
    "    print(\"The root is at {:.3f} within the tolerance {}\".format(x[-1],tol))"
   ]
  },
  {
   "cell_type": "code",
   "execution_count": 6,
   "metadata": {},
   "outputs": [
    {
     "name": "stdout",
     "output_type": "stream",
     "text": [
      "For carbon dioxide:\n",
      "The temperature is 700 and pressure is 1\n",
      "45.95024   80.41292\n",
      "The root is at 57.418 within the tolerance 0.01\n",
      "\n",
      "\n",
      "The temperature is 700 and pressure is 10\n",
      "4.595024   8.041292\n",
      "The root is at 5.724 within the tolerance 0.01\n",
      "\n",
      "\n",
      "The temperature is 700 and pressure is 100\n",
      "0.45950240000000003   0.8041292\n",
      "The root is at 0.557 within the tolerance 0.01\n",
      "\n",
      "\n",
      "For oxygen:\n",
      "The temperature is 700 and pressure is 1\n",
      "45.95024   80.41292\n",
      "The root is at 57.446 within the tolerance 0.01\n",
      "\n",
      "\n",
      "The temperature is 700 and pressure is 10\n",
      "4.595024   8.041292\n",
      "The root is at 5.752 within the tolerance 0.01\n",
      "\n",
      "\n",
      "The temperature is 700 and pressure is 100\n",
      "0.45950240000000003   0.8041292\n",
      "The root is at 0.584 within the tolerance 0.01\n",
      "\n",
      "\n"
     ]
    }
   ],
   "source": [
    "#1.4\n",
    "print(\"For carbon dioxide:\")\n",
    "p=[1,10,100]\n",
    "for j in p:\n",
    "    print(f\"The temperature is {700} and pressure is {j}\")\n",
    "    secant(10**-2,fv,c_a,c_b,700,j,r)\n",
    "    print(\"\\n\")\n",
    "print(\"For oxygen:\")\n",
    "for j in p:\n",
    "    print(f\"The temperature is {700} and pressure is {j}\")\n",
    "    secant(10**-2,fv,o_a,o_b,700,j,r)\n",
    "    print(\"\\n\")"
   ]
  },
  {
   "cell_type": "markdown",
   "metadata": {},
   "source": [
    "#### 2.0\n",
    "\n",
    "**Exercise 2. Problem Statement:** The equation of Kepler is\n",
    "$$E=M+e\\sin{E}\\tag{2.1}$$<br>\n",
    "where $E$ - eccentric anomaly of the planet, $M$ - mean anomaly and $e$ is the eccentricity.<br>\n",
    "\n",
    "Employ the Newton-Raphson numerical algorithm to calculate the true anomaly $E$ for the planet Mars when the mean anomaly is $M = 98.679^o$. The eccentricity of the orbit of Mars around the Sun is $e=0.09340$. For the purposes of calculations, angles in degrees should be converted to radians.\n",
    "<br>\n",
    "\n",
    "**1)** Provide $E$ in degrees for $n=1$, $n=3$ and $n=5$ number of interations using Newton-Raphson's method.<br>\n",
    "**2)** Provide $E$ in degrees for 1,3, and 5 number of iterations using the fixed-point iteration method with the same initial guess $E_{ig}$ as in **1)**.<br>\n",
    "**3)** Plot function $E(M)$ for $M$ in the range $[-\\pi,\\pi]$ with a step size $\\Delta M=0.1$ and choose three values of the eccentricity $e=$ $0.00$, $0.09$, $0.90$. $E$ and $M$ should be in radians. Use your Newton-Raphson's method implementation to evaluate $E(M)$ at fixed number of iterations $n=5$."
   ]
  },
  {
   "cell_type": "code",
   "execution_count": 7,
   "metadata": {},
   "outputs": [],
   "source": [
    "#2.1\n",
    "m=98.679/(180)*np.pi\n",
    "e=0.09340\n",
    "#The original function is already given in the form of x=g(x)\n",
    "#therefore, we can just use that function for fixed point iteration\n",
    "def kep_fix(E,m,e):\n",
    "    return m+e*np.sin(E)\n",
    "def kep_newt(E,m,e):\n",
    "    return E-(m+e*np.sin(E))\n",
    "def kep_der(E,e):\n",
    "    return (1-e*np.cos(E))\n",
    "\n",
    "def newt(f,f_der,n,m,e):\n",
    "    x=[m]\n",
    "    for i in range(0,n):\n",
    "        x.append(x[-1]-f(x[-1],m,e)/f_der(x[-1],e))\n",
    "    return x[-1]\n"
   ]
  },
  {
   "cell_type": "code",
   "execution_count": 8,
   "metadata": {},
   "outputs": [
    {
     "name": "stdout",
     "output_type": "stream",
     "text": [
      "The initial guess is 1.7222734525754844\n",
      "The 1th iteration yields 1.8133207402\n",
      "The 3th iteration yields 1.8129484296\n",
      "The 5th iteration yields 1.8129484296\n"
     ]
    }
   ],
   "source": [
    "#2.1\n",
    "print(f\"The initial guess is {m}\")\n",
    "for i in [1,3,5]:\n",
    "    print(\"The {}th iteration yields {:.10f}\".format(i,newt(kep_newt,kep_der,i,m,e)))"
   ]
  },
  {
   "cell_type": "code",
   "execution_count": 9,
   "metadata": {},
   "outputs": [],
   "source": [
    "#2.2\n",
    "def fix(f,n,m,e):\n",
    "    E=m\n",
    "    for i in range(0,n):\n",
    "        E=f(E,m,e)\n",
    "    return E"
   ]
  },
  {
   "cell_type": "code",
   "execution_count": 10,
   "metadata": {},
   "outputs": [
    {
     "name": "stdout",
     "output_type": "stream",
     "text": [
      "The 1th iteration yields 1.8146039535\n",
      "The 3th iteration yields 1.8129492628\n",
      "The 5th iteration yields 1.8129484300\n"
     ]
    }
   ],
   "source": [
    "#2.2\n",
    "for i in [1,3,5]:\n",
    "    print(\"The {}th iteration yields {:.10f}\".format(i,fix(kep_fix,i,m,e)))"
   ]
  },
  {
   "cell_type": "code",
   "execution_count": 11,
   "metadata": {},
   "outputs": [
    {
     "data": {
      "image/png": "[encoded data removed]",
      "text/plain": [
       "<Figure size 432x288 with 1 Axes>"
      ]
     },
     "metadata": {
      "needs_background": "light"
     },
     "output_type": "display_data"
    }
   ],
   "source": [
    "#2.3\n",
    "e_p=[0.00,0.09,0.90]\n",
    "E=[]\n",
    "ms=np.arange(-np.pi,np.pi,0.1)\n",
    "for ei in e_p:\n",
    "    for mi in ms:\n",
    "        E.append(newt(kep_newt,kep_der,5,mi,ei))\n",
    "        \n",
    "    plt.plot(ms,E,label=f'The plot of e={ei}')\n",
    "    E=[]\n",
    "plt.xlabel(r\"$M$, in radians\")\n",
    "plt.ylabel(r\"$E(M)$, in radians\")\n",
    "plt.title(r\"The plot of $E$ versus $M$\")\n",
    "plt.legend()\n",
    "plt.show()"
   ]
  }
 ],
 "metadata": {
  "kernelspec": {
   "display_name": "Python 3",
   "language": "python",
   "name": "python3"
  },
  "language_info": {
   "codemirror_mode": {
    "name": "ipython",
    "version": 3
   },
   "file_extension": ".py",
   "mimetype": "text/x-python",
   "name": "python",
   "nbconvert_exporter": "python",
   "pygments_lexer": "ipython3",
   "version": "3.7.1"
  }
 },
 "nbformat": 4,
 "nbformat_minor": 2
}
